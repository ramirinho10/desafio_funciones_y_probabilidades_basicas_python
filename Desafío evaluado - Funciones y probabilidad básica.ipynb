{
 "cells": [
  {
   "cell_type": "markdown",
   "id": "57cdecdb",
   "metadata": {},
   "source": [
    "<h1 style=\"text-align: center;\">Desafío - Funciones y probabilidades</h1>\n",
    "\n",
    "- Para realizar este desafío debes haber estudiado previamente todo el material disponible correspondiente a la unidad.\n",
    "- Una vez terminado el desafío, comprime la carpeta que contiene el desarrollo de los requerimientos solicitados y sube el .zip en el LMS.\n",
    "- Para la realización del desafío necesitarás apoyarte del archivo `Apoyo Desafío - Calculando probabilidades.zip`, disponible en la <a href=\"https://empieza.desafiolatam.com/cohorts/2091/sections/78268/activities/119096/items/610788\">plataforma</a>.\n",
    "- Desarrollo desafío:\n",
    "    - El desafío se debe desarrollar de manera Individual.\n",
    "    - Puntaje total: 10 puntos."
   ]
  },
  {
   "cell_type": "markdown",
   "id": "60d41138",
   "metadata": {},
   "source": [
    "## Desafío 1: Generación de funciones (1 punto)\n",
    "- Genere funciones para calcular la media y varianza de un vector. Debe cumplir con los siguientes requisitos:\n",
    "    - Ambas funciones deben ingresar un argumento x correspondiente al vector.\n",
    "    - Las funciones deben contener docstrings con la documentación asociada a la variable y retornar un valor utilizando `return`.\n",
    "- La función de la varianza se debe llamar a la función de la media.\n",
    "- Utilice las funciones para reportar la información sobre `goles_favor`, `goles_contra` y `puntos`."
   ]
  },
  {
   "cell_type": "code",
   "execution_count": 45,
   "id": "1edc173d",
   "metadata": {},
   "outputs": [
    {
     "data": {
      "text/plain": [
       "5.0"
      ]
     },
     "execution_count": 45,
     "metadata": {},
     "output_type": "execute_result"
    }
   ],
   "source": [
    "# Utiliza este bloque para definir las funciones solicitadas\n",
    "\n",
    "#Un vector es una lista de datos\n",
    "\n",
    "a = [1,2,3,4,5,6,7,8,9]\n",
    "\n",
    "def media(x):\n",
    "    \"\"\"\n",
    "    Definición: Esta función entrega el promedio de n numeros.\n",
    "    \n",
    "    Parametros de ingreso: n numeros del tipo int o float, los cuales se suman en su totalidad y se divide por la cantidad\n",
    "    de numeros entregados.\n",
    "    \n",
    "    Retorno: Devuelve el resultado de la suma de todos los numeros dividido por el largo o la cantidad de numeros\n",
    "    \n",
    "    \"\"\"\n",
    "    return sum(x) / len(x)\n",
    "\n",
    "media(a)\n"
   ]
  },
  {
   "cell_type": "code",
   "execution_count": 46,
   "id": "29a534a6",
   "metadata": {},
   "outputs": [
    {
     "data": {
      "text/plain": [
       "6.666666666666667"
      ]
     },
     "execution_count": 46,
     "metadata": {},
     "output_type": "execute_result"
    }
   ],
   "source": [
    "def varianza(x):\n",
    "    \"\"\"\n",
    "    Definición: Esta función entrega la varianza de n numeros.\n",
    "    \n",
    "    Parametros de ingreso: n numeros del tipo int o float, el cual es una sumatoria entre cada numero - el promedio \n",
    "    (cabe destacar que para este numero invoca la funcion media declara más arriba) y esté es elevado al cuadrado para finalmente ser dividido por la cantidad de numeros.\n",
    "    \n",
    "    Retorno: Devuelve un float que es la varianza de la cantidad de numeros que entregamos como parametros.\n",
    "    \"\"\"\n",
    "    var = 0\n",
    "    \n",
    "    for i in x:\n",
    "        var = var + (((i-media(x))**2)/len(x))\n",
    "    \n",
    "    return var\n",
    "\n",
    "varianza(a)"
   ]
  },
  {
   "cell_type": "code",
   "execution_count": 47,
   "id": "09bc2d70",
   "metadata": {},
   "outputs": [
    {
     "data": {
      "text/html": [
       "<div>\n",
       "<style scoped>\n",
       "    .dataframe tbody tr th:only-of-type {\n",
       "        vertical-align: middle;\n",
       "    }\n",
       "\n",
       "    .dataframe tbody tr th {\n",
       "        vertical-align: top;\n",
       "    }\n",
       "\n",
       "    .dataframe thead th {\n",
       "        text-align: right;\n",
       "    }\n",
       "</style>\n",
       "<table border=\"1\" class=\"dataframe\">\n",
       "  <thead>\n",
       "    <tr style=\"text-align: right;\">\n",
       "      <th></th>\n",
       "      <th>team</th>\n",
       "      <th>continent</th>\n",
       "      <th>group</th>\n",
       "      <th>group_pos</th>\n",
       "      <th>cantidad_juegos</th>\n",
       "      <th>juegos_ganados</th>\n",
       "      <th>juegos_empatados</th>\n",
       "      <th>juegos_perdidos</th>\n",
       "      <th>goles_favor</th>\n",
       "      <th>goles_contra</th>\n",
       "      <th>goles_diferencia</th>\n",
       "      <th>puntos</th>\n",
       "      <th>clasificado</th>\n",
       "    </tr>\n",
       "  </thead>\n",
       "  <tbody>\n",
       "    <tr>\n",
       "      <th>0</th>\n",
       "      <td>Brazil</td>\n",
       "      <td>southamerica</td>\n",
       "      <td>A</td>\n",
       "      <td>1</td>\n",
       "      <td>3</td>\n",
       "      <td>2</td>\n",
       "      <td>1</td>\n",
       "      <td>0</td>\n",
       "      <td>7</td>\n",
       "      <td>2</td>\n",
       "      <td>5</td>\n",
       "      <td>7</td>\n",
       "      <td>1</td>\n",
       "    </tr>\n",
       "    <tr>\n",
       "      <th>1</th>\n",
       "      <td>Mexico</td>\n",
       "      <td>northamerica</td>\n",
       "      <td>A</td>\n",
       "      <td>2</td>\n",
       "      <td>3</td>\n",
       "      <td>2</td>\n",
       "      <td>1</td>\n",
       "      <td>0</td>\n",
       "      <td>4</td>\n",
       "      <td>1</td>\n",
       "      <td>3</td>\n",
       "      <td>7</td>\n",
       "      <td>1</td>\n",
       "    </tr>\n",
       "    <tr>\n",
       "      <th>2</th>\n",
       "      <td>Croatia</td>\n",
       "      <td>europe</td>\n",
       "      <td>A</td>\n",
       "      <td>3</td>\n",
       "      <td>3</td>\n",
       "      <td>1</td>\n",
       "      <td>0</td>\n",
       "      <td>2</td>\n",
       "      <td>6</td>\n",
       "      <td>6</td>\n",
       "      <td>0</td>\n",
       "      <td>3</td>\n",
       "      <td>0</td>\n",
       "    </tr>\n",
       "    <tr>\n",
       "      <th>3</th>\n",
       "      <td>Cameroon</td>\n",
       "      <td>africa</td>\n",
       "      <td>A</td>\n",
       "      <td>4</td>\n",
       "      <td>3</td>\n",
       "      <td>0</td>\n",
       "      <td>0</td>\n",
       "      <td>3</td>\n",
       "      <td>1</td>\n",
       "      <td>9</td>\n",
       "      <td>−8</td>\n",
       "      <td>0</td>\n",
       "      <td>0</td>\n",
       "    </tr>\n",
       "    <tr>\n",
       "      <th>4</th>\n",
       "      <td>Netherlands</td>\n",
       "      <td>europe</td>\n",
       "      <td>B</td>\n",
       "      <td>1</td>\n",
       "      <td>3</td>\n",
       "      <td>3</td>\n",
       "      <td>0</td>\n",
       "      <td>0</td>\n",
       "      <td>10</td>\n",
       "      <td>3</td>\n",
       "      <td>7</td>\n",
       "      <td>9</td>\n",
       "      <td>1</td>\n",
       "    </tr>\n",
       "  </tbody>\n",
       "</table>\n",
       "</div>"
      ],
      "text/plain": [
       "          team     continent group  group_pos  cantidad_juegos  \\\n",
       "0       Brazil  southamerica     A          1                3   \n",
       "1       Mexico  northamerica     A          2                3   \n",
       "2      Croatia        europe     A          3                3   \n",
       "3     Cameroon        africa     A          4                3   \n",
       "4  Netherlands        europe     B          1                3   \n",
       "\n",
       "   juegos_ganados  juegos_empatados  juegos_perdidos  goles_favor  \\\n",
       "0               2                 1                0            7   \n",
       "1               2                 1                0            4   \n",
       "2               1                 0                2            6   \n",
       "3               0                 0                3            1   \n",
       "4               3                 0                0           10   \n",
       "\n",
       "   goles_contra goles_diferencia  puntos  clasificado  \n",
       "0             2                5       7            1  \n",
       "1             1                3       7            1  \n",
       "2             6                0       3            0  \n",
       "3             9               −8       0            0  \n",
       "4             3                7       9            1  "
      ]
     },
     "execution_count": 47,
     "metadata": {},
     "output_type": "execute_result"
    }
   ],
   "source": [
    "# Utiliza este bloque para reportar la información sobre goles_favor, goles_contra y puntos\n",
    "\n",
    "import pandas as pd\n",
    "import numpy as np\n",
    "df = pd.read_csv(\"worldcup2014.csv\")\n",
    "df.head(5)\n"
   ]
  },
  {
   "cell_type": "code",
   "execution_count": 61,
   "id": "efc64dd6",
   "metadata": {},
   "outputs": [
    {
     "name": "stdout",
     "output_type": "stream",
     "text": [
      "La media de goles a favor es de 4.25 y su varianza es de 4.8125\n"
     ]
    }
   ],
   "source": [
    "media_goles_contra = media(df[\"goles_contra\"])\n",
    "varianza_goles_contra = varianza(df[\"goles_contra\"])\n",
    "print(f\"La media de goles a favor es de {media_goles_contra} y su varianza es de {varianza_goles_contra}\")"
   ]
  },
  {
   "cell_type": "code",
   "execution_count": 62,
   "id": "e91da8c8",
   "metadata": {},
   "outputs": [
    {
     "name": "stdout",
     "output_type": "stream",
     "text": [
      "La media de goles en contra es de 4.21875 y su varianza es de 8.0458984375\n"
     ]
    }
   ],
   "source": [
    "media_puntos = media(df[\"puntos\"])\n",
    "varianza_puntos = varianza(df[\"puntos\"])\n",
    "print(f\"La media de goles en contra es de {media_puntos} y su varianza es de {varianza_puntos}\")"
   ]
  },
  {
   "cell_type": "code",
   "execution_count": 63,
   "id": "7b130875",
   "metadata": {},
   "outputs": [
    {
     "name": "stdout",
     "output_type": "stream",
     "text": [
      "La media de puntos obtenidos es de 4.25 y su varianza es de 4.8125\n"
     ]
    }
   ],
   "source": [
    "media_goles_contra = media(df[\"goles_contra\"])\n",
    "varianza_goles_contra = varianza(df[\"goles_contra\"])\n",
    "print(f\"La media de puntos obtenidos es de {media_goles_contra} y su varianza es de {varianza_goles_contra}\")"
   ]
  },
  {
   "cell_type": "markdown",
   "id": "5cc8e767",
   "metadata": {},
   "source": [
    "## Desafío 2: Uso de groupby y agg (2 puntos)\n",
    "Utilizando el método `groupby` de la clase `DataFrame`, en conjunto con la función `.agg` de pandas, calcule la media, la varianza y desviación estándar de la cantidad de goles a favor, en contra y de la cantidad de puntos por continente."
   ]
  },
  {
   "cell_type": "code",
   "execution_count": 3,
   "id": "7776cdd1",
   "metadata": {},
   "outputs": [],
   "source": [
    "# Utiliza esta celda para aplicar groupby y obtener las métricas solicitadas con agg"
   ]
  },
  {
   "cell_type": "code",
   "execution_count": 64,
   "id": "97e8d1fc",
   "metadata": {},
   "outputs": [
    {
     "data": {
      "text/html": [
       "<div>\n",
       "<style scoped>\n",
       "    .dataframe tbody tr th:only-of-type {\n",
       "        vertical-align: middle;\n",
       "    }\n",
       "\n",
       "    .dataframe tbody tr th {\n",
       "        vertical-align: top;\n",
       "    }\n",
       "\n",
       "    .dataframe thead tr th {\n",
       "        text-align: left;\n",
       "    }\n",
       "\n",
       "    .dataframe thead tr:last-of-type th {\n",
       "        text-align: right;\n",
       "    }\n",
       "</style>\n",
       "<table border=\"1\" class=\"dataframe\">\n",
       "  <thead>\n",
       "    <tr>\n",
       "      <th></th>\n",
       "      <th colspan=\"3\" halign=\"left\">goles_favor</th>\n",
       "      <th colspan=\"3\" halign=\"left\">goles_contra</th>\n",
       "      <th colspan=\"3\" halign=\"left\">puntos</th>\n",
       "    </tr>\n",
       "    <tr>\n",
       "      <th></th>\n",
       "      <th>mean</th>\n",
       "      <th>var</th>\n",
       "      <th>std</th>\n",
       "      <th>mean</th>\n",
       "      <th>var</th>\n",
       "      <th>std</th>\n",
       "      <th>mean</th>\n",
       "      <th>var</th>\n",
       "      <th>std</th>\n",
       "    </tr>\n",
       "    <tr>\n",
       "      <th>continent</th>\n",
       "      <th></th>\n",
       "      <th></th>\n",
       "      <th></th>\n",
       "      <th></th>\n",
       "      <th></th>\n",
       "      <th></th>\n",
       "      <th></th>\n",
       "      <th></th>\n",
       "      <th></th>\n",
       "    </tr>\n",
       "  </thead>\n",
       "  <tbody>\n",
       "    <tr>\n",
       "      <th>africa</th>\n",
       "      <td>3.600000</td>\n",
       "      <td>3.300000</td>\n",
       "      <td>1.816590</td>\n",
       "      <td>5.600000</td>\n",
       "      <td>4.800000</td>\n",
       "      <td>2.190890</td>\n",
       "      <td>2.400000</td>\n",
       "      <td>3.300000</td>\n",
       "      <td>1.816590</td>\n",
       "    </tr>\n",
       "    <tr>\n",
       "      <th>asia</th>\n",
       "      <td>2.250000</td>\n",
       "      <td>0.916667</td>\n",
       "      <td>0.957427</td>\n",
       "      <td>6.250000</td>\n",
       "      <td>4.250000</td>\n",
       "      <td>2.061553</td>\n",
       "      <td>0.750000</td>\n",
       "      <td>0.250000</td>\n",
       "      <td>0.500000</td>\n",
       "    </tr>\n",
       "    <tr>\n",
       "      <th>europe</th>\n",
       "      <td>4.769231</td>\n",
       "      <td>6.858974</td>\n",
       "      <td>2.618964</td>\n",
       "      <td>4.000000</td>\n",
       "      <td>3.833333</td>\n",
       "      <td>1.957890</td>\n",
       "      <td>4.692308</td>\n",
       "      <td>6.897436</td>\n",
       "      <td>2.626297</td>\n",
       "    </tr>\n",
       "    <tr>\n",
       "      <th>northamerica</th>\n",
       "      <td>3.250000</td>\n",
       "      <td>2.250000</td>\n",
       "      <td>1.500000</td>\n",
       "      <td>3.500000</td>\n",
       "      <td>11.000000</td>\n",
       "      <td>3.316625</td>\n",
       "      <td>4.500000</td>\n",
       "      <td>11.000000</td>\n",
       "      <td>3.316625</td>\n",
       "    </tr>\n",
       "    <tr>\n",
       "      <th>southamerica</th>\n",
       "      <td>5.666667</td>\n",
       "      <td>4.666667</td>\n",
       "      <td>2.160247</td>\n",
       "      <td>2.833333</td>\n",
       "      <td>0.566667</td>\n",
       "      <td>0.752773</td>\n",
       "      <td>6.833333</td>\n",
       "      <td>3.766667</td>\n",
       "      <td>1.940790</td>\n",
       "    </tr>\n",
       "  </tbody>\n",
       "</table>\n",
       "</div>"
      ],
      "text/plain": [
       "             goles_favor                     goles_contra             \\\n",
       "                    mean       var       std         mean        var   \n",
       "continent                                                              \n",
       "africa          3.600000  3.300000  1.816590     5.600000   4.800000   \n",
       "asia            2.250000  0.916667  0.957427     6.250000   4.250000   \n",
       "europe          4.769231  6.858974  2.618964     4.000000   3.833333   \n",
       "northamerica    3.250000  2.250000  1.500000     3.500000  11.000000   \n",
       "southamerica    5.666667  4.666667  2.160247     2.833333   0.566667   \n",
       "\n",
       "                          puntos                       \n",
       "                   std      mean        var       std  \n",
       "continent                                              \n",
       "africa        2.190890  2.400000   3.300000  1.816590  \n",
       "asia          2.061553  0.750000   0.250000  0.500000  \n",
       "europe        1.957890  4.692308   6.897436  2.626297  \n",
       "northamerica  3.316625  4.500000  11.000000  3.316625  \n",
       "southamerica  0.752773  6.833333   3.766667  1.940790  "
      ]
     },
     "execution_count": 64,
     "metadata": {},
     "output_type": "execute_result"
    }
   ],
   "source": [
    "df.groupby('continent')[['goles_favor', 'goles_contra', 'puntos']].agg(['mean','var', 'std'])"
   ]
  },
  {
   "cell_type": "code",
   "execution_count": 69,
   "id": "8fcae53b",
   "metadata": {},
   "outputs": [
    {
     "data": {
      "text/html": [
       "<div>\n",
       "<style scoped>\n",
       "    .dataframe tbody tr th:only-of-type {\n",
       "        vertical-align: middle;\n",
       "    }\n",
       "\n",
       "    .dataframe tbody tr th {\n",
       "        vertical-align: top;\n",
       "    }\n",
       "\n",
       "    .dataframe thead th {\n",
       "        text-align: right;\n",
       "    }\n",
       "</style>\n",
       "<table border=\"1\" class=\"dataframe\">\n",
       "  <thead>\n",
       "    <tr style=\"text-align: right;\">\n",
       "      <th></th>\n",
       "      <th>mean</th>\n",
       "      <th>var</th>\n",
       "      <th>std</th>\n",
       "    </tr>\n",
       "    <tr>\n",
       "      <th>continent</th>\n",
       "      <th></th>\n",
       "      <th></th>\n",
       "      <th></th>\n",
       "    </tr>\n",
       "  </thead>\n",
       "  <tbody>\n",
       "    <tr>\n",
       "      <th>africa</th>\n",
       "      <td>3.600000</td>\n",
       "      <td>3.300000</td>\n",
       "      <td>1.816590</td>\n",
       "    </tr>\n",
       "    <tr>\n",
       "      <th>asia</th>\n",
       "      <td>2.250000</td>\n",
       "      <td>0.916667</td>\n",
       "      <td>0.957427</td>\n",
       "    </tr>\n",
       "    <tr>\n",
       "      <th>europe</th>\n",
       "      <td>4.769231</td>\n",
       "      <td>6.858974</td>\n",
       "      <td>2.618964</td>\n",
       "    </tr>\n",
       "    <tr>\n",
       "      <th>northamerica</th>\n",
       "      <td>3.250000</td>\n",
       "      <td>2.250000</td>\n",
       "      <td>1.500000</td>\n",
       "    </tr>\n",
       "    <tr>\n",
       "      <th>southamerica</th>\n",
       "      <td>5.666667</td>\n",
       "      <td>4.666667</td>\n",
       "      <td>2.160247</td>\n",
       "    </tr>\n",
       "  </tbody>\n",
       "</table>\n",
       "</div>"
      ],
      "text/plain": [
       "                  mean       var       std\n",
       "continent                                 \n",
       "africa        3.600000  3.300000  1.816590\n",
       "asia          2.250000  0.916667  0.957427\n",
       "europe        4.769231  6.858974  2.618964\n",
       "northamerica  3.250000  2.250000  1.500000\n",
       "southamerica  5.666667  4.666667  2.160247"
      ]
     },
     "execution_count": 69,
     "metadata": {},
     "output_type": "execute_result"
    }
   ],
   "source": [
    " "
   ]
  },
  {
   "cell_type": "markdown",
   "id": "3d6e53f2",
   "metadata": {},
   "source": [
    "**¿En qué continente se observa una mayor cantidad de goles a favor?**\n",
    "\n",
    "**Respuesta**: En southamerica se observa una mayor cantidad de goles a favor promedio con 5.66"
   ]
  },
  {
   "cell_type": "markdown",
   "id": "45a56621",
   "metadata": {},
   "source": [
    "**¿En qué continente se observa una mayor cantidad de goles en contra?**\n",
    "\n",
    "**Respuesta:** En asia se observa una mayor cantidad de goles en contra promedio con 6.25"
   ]
  },
  {
   "cell_type": "markdown",
   "id": "ad57715f",
   "metadata": {},
   "source": [
    "**¿En qué continente se observa una mayor cantidad de puntos en promedio?**\n",
    "\n",
    "**Respuesta**: En southamerica se observa una mayor cantidad de puntos promedio con 6.83"
   ]
  },
  {
   "cell_type": "markdown",
   "id": "9759a972",
   "metadata": {},
   "source": [
    "## Desafío 3: Simulaciones (3 puntos)\n",
    "\n",
    "- Genere una función `generate_pet` que devuelva de forma aleatoria un string `'perro'` o `'gato'` un número `n` de veces. Ejecútela un par de veces.\n",
    "    - Tip: Puede utilizar la función `np.random.choice` para retornar elementos al azar.\n",
    "- Aplique la función generate_pet para generar 20 muestras."
   ]
  },
  {
   "cell_type": "code",
   "execution_count": 143,
   "id": "3d099a43",
   "metadata": {},
   "outputs": [],
   "source": [
    "# Use este bloque para definir la función generate_pet\n",
    "\n",
    "\n",
    "def generate_pet2():\n",
    "    pets = [\"perro\", \"gato\"]\n",
    "    tmp = np.random.choice(pets)\n",
    "    return tmp\n",
    "\n"
   ]
  },
  {
   "cell_type": "code",
   "execution_count": 144,
   "id": "72342cf8",
   "metadata": {},
   "outputs": [
    {
     "name": "stdout",
     "output_type": "stream",
     "text": [
      "['gato', 'gato', 'perro', 'perro', 'gato', 'gato', 'gato', 'gato', 'gato', 'perro', 'perro', 'gato', 'perro', 'gato', 'gato', 'perro', 'perro', 'gato', 'perro', 'perro']\n"
     ]
    },
    {
     "data": {
      "text/plain": [
       "0.45"
      ]
     },
     "execution_count": 144,
     "metadata": {},
     "output_type": "execute_result"
    }
   ],
   "source": [
    "# Use este bloque para generar las 20 muestras usando la función\n",
    "\n",
    "lista_animales = []\n",
    "\n",
    "i = 0\n",
    "\n",
    "while i < 20:\n",
    "    tmp = generate_pet2()\n",
    "    lista_animales.append(tmp)\n",
    "    i += 1\n",
    "    \n",
    "perro = 0\n",
    "\n",
    "probabilidad_perro = lista_animales.count(\"perro\")/len(lista_animales)\n",
    "\n",
    "print(lista_animales)\n",
    "probabilidad_perro"
   ]
  },
  {
   "cell_type": "markdown",
   "id": "74ffe4d9",
   "metadata": {},
   "source": [
    "**¿Cuál es la probabilidad de elegir un perro al azar? ¿Y un gato?**\n",
    "\n",
    "**Respuesta:** La probabilidad de elegir un perro al azar es de 0.45. Cabe destacar que probablemente si se ejecuta nuevamente el codigo, la probabilidad puede variar ya que es random."
   ]
  },
  {
   "cell_type": "markdown",
   "id": "8a3ba77b",
   "metadata": {},
   "source": [
    "**Agregue `np.random.seed(2)` al inicio del chunk. ¿Qué diferencia hay cuando se ejecuta la función varias veces luego de fijar la semilla?**\n",
    "\n",
    "**Respuesta**:"
   ]
  },
  {
   "cell_type": "markdown",
   "id": "da1da134",
   "metadata": {},
   "source": [
    "## Desafío 4: Función simuladora (4 puntos)\n",
    "- Genere una función llamada `simulate_pets_prob` que tome como argumento un número finito de simulaciones a generar.\n",
    "- La función debe simular dos situaciones `'young_pet'` y `'old_pet'`, y contar la ocurrencia de los siguientes casos:\n",
    "    - De las dos mascotas simuladas (`'young_pet'` y `'old_pet'`), contar las ocasiones donde _por lo menos una_ de las mascotas sea un perro.\n",
    "    - De las dos mascotas simuladas, contar las ocasiones donde `'old_pet'` sea un perro.\n",
    "    - De las dos mascotas simuladas, contar las ocasiones donde los dos sean perros.\n",
    "- El método debe tener una semilla pseudoaleatoria de 1.\n",
    "- El output de la función debe entregarse en términos de Probabilidad."
   ]
  },
  {
   "cell_type": "code",
   "execution_count": 145,
   "id": "a0d9dc3c",
   "metadata": {},
   "outputs": [],
   "source": [
    "def generate_pet(n): \n",
    "    return np.random.choice(['Gato', 'Perro'],n)"
   ]
  },
  {
   "cell_type": "code",
   "execution_count": 147,
   "id": "99c0b838",
   "metadata": {},
   "outputs": [],
   "source": [
    "# Use este bloque para definir la función\n",
    "\n",
    "def simulate_pets_prob(n):\n",
    "    np.random.seed(1) \n",
    "    cont_1 = 0 \n",
    "    cont_2 = 0 \n",
    "    cont_3 = 0\n",
    "    \n",
    "    young_pet = generate_pet(n) \n",
    "    old_pet = generate_pet(n)\n",
    "    \n",
    "    for yp,op in zip(young_pet, old_pet):\n",
    "        \n",
    "        if yp == 'Perro'or op == 'Perro': \n",
    "            cont_1 += 1 \n",
    "            \n",
    "        if op == 'Perro': \n",
    "            cont_2 += 1 \n",
    "            \n",
    "        if yp == 'Perro'and op == 'Perro': \n",
    "            cont_3 += 1\n",
    "            \n",
    "    print('Cualquiera sea Perro:', cont_1 / n) # aqui esta dando el %, ya que dicide todos los posibles perros / n (numero entregado)\n",
    "    print('Old Pet sea Perro:',cont_2 / n) \n",
    "    print('Ambos Perro:', cont_3 / n)\n",
    "    "
   ]
  },
  {
   "cell_type": "code",
   "execution_count": 148,
   "id": "130cead5",
   "metadata": {},
   "outputs": [
    {
     "name": "stdout",
     "output_type": "stream",
     "text": [
      "Cualquiera sea Perro: 0.73\n",
      "Old Pet sea Perro: 0.497\n",
      "Ambos Perro: 0.245\n"
     ]
    }
   ],
   "source": [
    "# Utilice este bloque para realizar el llamado\n",
    "simulate_pets_prob(1000)"
   ]
  },
  {
   "cell_type": "markdown",
   "id": "a1243484",
   "metadata": {},
   "source": [
    "**De los tres escenarios, ¿Cuál es el menos probable? ¿Cuál es el más probable? ¿Por qué?**\n",
    "\n",
    "**Respuesta:** El escenario menos probanle es de ambos perros. Por otro lado el escenario mas probable es que\n",
    "caulquiera sera perro."
   ]
  },
  {
   "cell_type": "code",
   "execution_count": null,
   "id": "1b02cf50",
   "metadata": {},
   "outputs": [],
   "source": []
  }
 ],
 "metadata": {
  "kernelspec": {
   "display_name": "Python 3 (ipykernel)",
   "language": "python",
   "name": "python3"
  },
  "language_info": {
   "codemirror_mode": {
    "name": "ipython",
    "version": 3
   },
   "file_extension": ".py",
   "mimetype": "text/x-python",
   "name": "python",
   "nbconvert_exporter": "python",
   "pygments_lexer": "ipython3",
   "version": "3.9.7"
  }
 },
 "nbformat": 4,
 "nbformat_minor": 5
}
